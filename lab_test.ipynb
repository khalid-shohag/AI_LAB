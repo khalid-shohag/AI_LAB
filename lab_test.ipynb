{
  "nbformat": 4,
  "nbformat_minor": 0,
  "metadata": {
    "colab": {
      "provenance": [],
      "gpuType": "T4",
      "authorship_tag": "ABX9TyMiTsyKdwFL0oLNKbp216V7",
      "include_colab_link": true
    },
    "kernelspec": {
      "name": "python3",
      "display_name": "Python 3"
    },
    "language_info": {
      "name": "python"
    },
    "accelerator": "GPU"
  },
  "cells": [
    {
      "cell_type": "markdown",
      "metadata": {
        "id": "view-in-github",
        "colab_type": "text"
      },
      "source": [
        "<a href=\"https://colab.research.google.com/github/khalid-shohag/AI_LAB/blob/master/lab_test.ipynb\" target=\"_parent\"><img src=\"https://colab.research.google.com/assets/colab-badge.svg\" alt=\"Open In Colab\"/></a>"
      ]
    },
    {
      "cell_type": "markdown",
      "source": [
        "# Packages"
      ],
      "metadata": {
        "id": "vV1oeqH2KKwe"
      }
    },
    {
      "cell_type": "code",
      "source": [
        "!pip install torchinfo"
      ],
      "metadata": {
        "colab": {
          "base_uri": "https://localhost:8080/"
        },
        "id": "mI1KVUHXh5Xo",
        "outputId": "5b6ce43f-067c-4966-f73e-22b27605f91c"
      },
      "execution_count": null,
      "outputs": [
        {
          "output_type": "stream",
          "name": "stdout",
          "text": [
            "Collecting torchinfo\n",
            "  Downloading torchinfo-1.8.0-py3-none-any.whl (23 kB)\n",
            "Installing collected packages: torchinfo\n",
            "Successfully installed torchinfo-1.8.0\n"
          ]
        }
      ]
    },
    {
      "cell_type": "markdown",
      "source": [
        "# Neccessary Packages"
      ],
      "metadata": {
        "id": "np-24AGkghao"
      }
    },
    {
      "cell_type": "code",
      "source": [
        "importimport torch\n",
        "import torch.nn as nn\n",
        "import torch.optim as optim\n",
        "from torchvision import datasets, transforms\n",
        "import matplotlib.pyplot as plt\n",
        "import torchinfo"
      ],
      "metadata": {
        "id": "_ImwnQ_bKPVq"
      },
      "execution_count": null,
      "outputs": []
    },
    {
      "cell_type": "markdown",
      "source": [
        "# Device CUDA"
      ],
      "metadata": {
        "id": "zpKFcQgwglda"
      }
    },
    {
      "cell_type": "code",
      "source": [
        "device = 'cuda' if torch.cuda.is_available() else 'cpu'\n",
        "device"
      ],
      "metadata": {
        "colab": {
          "base_uri": "https://localhost:8080/",
          "height": 38
        },
        "id": "PFBbgR12tpIO",
        "outputId": "633deece-1227-4b10-bc77-6793f2aa4fcd"
      },
      "execution_count": null,
      "outputs": [
        {
          "output_type": "execute_result",
          "data": {
            "text/plain": [
              "'cuda'"
            ],
            "application/vnd.google.colaboratory.intrinsic+json": {
              "type": "string"
            }
          },
          "metadata": {},
          "execution_count": 3
        }
      ]
    },
    {
      "cell_type": "markdown",
      "source": [
        "# Generation of CNN model"
      ],
      "metadata": {
        "id": "bCgVZjpIKgWS"
      }
    },
    {
      "cell_type": "code",
      "source": [
        "class CNN(nn.Module):\n",
        "    def __init__(self):\n",
        "        super().__init__()\n",
        "        self.conv1 = nn.Conv2d(in_channels=1, out_channels=32, kernel_size=3)\n",
        "        self.conv2 = nn.Conv2d(in_channels=32, out_channels=64, kernel_size=3)\n",
        "        self.relu = nn.ReLU(inplace=True)\n",
        "        self.maxpool = nn.MaxPool2d(kernel_size=3, stride=1)\n",
        "        self.linear1 = nn.Linear(in_features= 64 * 22 * 22, out_features=10)\n",
        "        # self.linear2 = nn.Linear(in_features=64, out_features=10)\n",
        "\n",
        "    def forward(self, x):\n",
        "        x = self.conv1(x)\n",
        "        x = self.conv2(x)\n",
        "        x = self.relu(x)\n",
        "        x = self.maxpool(x)\n",
        "        x = torch.flatten(x, 1)\n",
        "\n",
        "        x = self.linear1(x)\n",
        "        # x = self.linear2(x)\n",
        "\n",
        "        return x\n"
      ],
      "metadata": {
        "id": "1N3QgTpuKmim"
      },
      "execution_count": null,
      "outputs": []
    },
    {
      "cell_type": "markdown",
      "source": [
        "# Model Summary"
      ],
      "metadata": {
        "id": "59X8Y2ObOIey"
      }
    },
    {
      "cell_type": "code",
      "source": [
        "model = CNN()\n",
        "torchinfo.summary(model, input_size=(1, 1, 28, 28))"
      ],
      "metadata": {
        "id": "XodBZuUoLKEV",
        "colab": {
          "base_uri": "https://localhost:8080/"
        },
        "outputId": "03d91881-5887-46a7-dfed-40cf1353325b"
      },
      "execution_count": null,
      "outputs": [
        {
          "output_type": "execute_result",
          "data": {
            "text/plain": [
              "==========================================================================================\n",
              "Layer (type:depth-idx)                   Output Shape              Param #\n",
              "==========================================================================================\n",
              "CNN                                      [1, 10]                   --\n",
              "├─Conv2d: 1-1                            [1, 32, 26, 26]           320\n",
              "├─Conv2d: 1-2                            [1, 64, 24, 24]           18,496\n",
              "├─ReLU: 1-3                              [1, 64, 24, 24]           --\n",
              "├─MaxPool2d: 1-4                         [1, 64, 22, 22]           --\n",
              "├─Linear: 1-5                            [1, 10]                   309,770\n",
              "==========================================================================================\n",
              "Total params: 328,586\n",
              "Trainable params: 328,586\n",
              "Non-trainable params: 0\n",
              "Total mult-adds (M): 11.18\n",
              "==========================================================================================\n",
              "Input size (MB): 0.00\n",
              "Forward/backward pass size (MB): 0.47\n",
              "Params size (MB): 1.31\n",
              "Estimated Total Size (MB): 1.79\n",
              "=========================================================================================="
            ]
          },
          "metadata": {},
          "execution_count": 5
        }
      ]
    },
    {
      "cell_type": "markdown",
      "source": [
        "# MNIST DATASET"
      ],
      "metadata": {
        "id": "h-L85nkyhK8t"
      }
    },
    {
      "cell_type": "code",
      "source": [
        "mnist_train = datasets.MNIST(root='./data', train=True, download=True)\n",
        "mnist_test = datasets.MNIST(root='./data', train=False, download=True)"
      ],
      "metadata": {
        "id": "7TGe7RLjhM2e",
        "colab": {
          "base_uri": "https://localhost:8080/"
        },
        "outputId": "a0ebbe28-7963-42db-d7fc-ee8a1931abcf"
      },
      "execution_count": null,
      "outputs": [
        {
          "output_type": "stream",
          "name": "stdout",
          "text": [
            "Downloading http://yann.lecun.com/exdb/mnist/train-images-idx3-ubyte.gz\n",
            "Failed to download (trying next):\n",
            "HTTP Error 403: Forbidden\n",
            "\n",
            "Downloading https://ossci-datasets.s3.amazonaws.com/mnist/train-images-idx3-ubyte.gz\n",
            "Downloading https://ossci-datasets.s3.amazonaws.com/mnist/train-images-idx3-ubyte.gz to ./data/MNIST/raw/train-images-idx3-ubyte.gz\n"
          ]
        },
        {
          "output_type": "stream",
          "name": "stderr",
          "text": [
            "100%|██████████| 9912422/9912422 [00:00<00:00, 16039170.49it/s]\n"
          ]
        },
        {
          "output_type": "stream",
          "name": "stdout",
          "text": [
            "Extracting ./data/MNIST/raw/train-images-idx3-ubyte.gz to ./data/MNIST/raw\n",
            "\n",
            "Downloading http://yann.lecun.com/exdb/mnist/train-labels-idx1-ubyte.gz\n",
            "Failed to download (trying next):\n",
            "HTTP Error 403: Forbidden\n",
            "\n",
            "Downloading https://ossci-datasets.s3.amazonaws.com/mnist/train-labels-idx1-ubyte.gz\n",
            "Downloading https://ossci-datasets.s3.amazonaws.com/mnist/train-labels-idx1-ubyte.gz to ./data/MNIST/raw/train-labels-idx1-ubyte.gz\n"
          ]
        },
        {
          "output_type": "stream",
          "name": "stderr",
          "text": [
            "100%|██████████| 28881/28881 [00:00<00:00, 482183.93it/s]\n"
          ]
        },
        {
          "output_type": "stream",
          "name": "stdout",
          "text": [
            "Extracting ./data/MNIST/raw/train-labels-idx1-ubyte.gz to ./data/MNIST/raw\n",
            "\n",
            "Downloading http://yann.lecun.com/exdb/mnist/t10k-images-idx3-ubyte.gz\n",
            "Failed to download (trying next):\n",
            "HTTP Error 403: Forbidden\n",
            "\n",
            "Downloading https://ossci-datasets.s3.amazonaws.com/mnist/t10k-images-idx3-ubyte.gz\n",
            "Downloading https://ossci-datasets.s3.amazonaws.com/mnist/t10k-images-idx3-ubyte.gz to ./data/MNIST/raw/t10k-images-idx3-ubyte.gz\n"
          ]
        },
        {
          "output_type": "stream",
          "name": "stderr",
          "text": [
            "100%|██████████| 1648877/1648877 [00:00<00:00, 4406061.93it/s]\n"
          ]
        },
        {
          "output_type": "stream",
          "name": "stdout",
          "text": [
            "Extracting ./data/MNIST/raw/t10k-images-idx3-ubyte.gz to ./data/MNIST/raw\n",
            "\n",
            "Downloading http://yann.lecun.com/exdb/mnist/t10k-labels-idx1-ubyte.gz\n",
            "Failed to download (trying next):\n",
            "HTTP Error 403: Forbidden\n",
            "\n",
            "Downloading https://ossci-datasets.s3.amazonaws.com/mnist/t10k-labels-idx1-ubyte.gz\n",
            "Downloading https://ossci-datasets.s3.amazonaws.com/mnist/t10k-labels-idx1-ubyte.gz to ./data/MNIST/raw/t10k-labels-idx1-ubyte.gz\n"
          ]
        },
        {
          "output_type": "stream",
          "name": "stderr",
          "text": [
            "100%|██████████| 4542/4542 [00:00<00:00, 4646470.43it/s]"
          ]
        },
        {
          "output_type": "stream",
          "name": "stdout",
          "text": [
            "Extracting ./data/MNIST/raw/t10k-labels-idx1-ubyte.gz to ./data/MNIST/raw\n",
            "\n"
          ]
        },
        {
          "output_type": "stream",
          "name": "stderr",
          "text": [
            "\n"
          ]
        }
      ]
    },
    {
      "cell_type": "markdown",
      "source": [
        "# MNIST Dataset Augmentation. Zoom, Shift, Rotation, Shear"
      ],
      "metadata": {
        "id": "qKocIso7RZ8_"
      }
    },
    {
      "cell_type": "code",
      "source": [
        "\n",
        "# Original\n",
        "dataset_transform = transforms.Compose([\n",
        "    transforms.ToTensor(),\n",
        "    transforms.Normalize(mean=(0.5,), std=(0.5,))\n",
        "])\n",
        "\n",
        "mnist_train.transform = dataset_transform\n",
        "mnist_test.transform = dataset_transform\n",
        "\n",
        "# Rotation\n",
        "dataset_transform_rotation = transforms.Compose([\n",
        "    transforms.RandomAffine(degrees=7),\n",
        "    transforms.ToTensor(),\n",
        "    transforms.Normalize(mean=(0.5,), std=(0.5,))\n",
        "])\n",
        "\n",
        "mnist_train_rotation = mnist_train\n",
        "mnist_test_rotation = mnist_test\n",
        "mnist_train_rotation.transform = dataset_transform_rotation\n",
        "mnist_test_rotation.transform = dataset_transform_rotation\n",
        "\n",
        "#combine\n",
        "combine_train = torch.utils.data.ConcatDataset([mnist_train, mnist_train_rotation])\n",
        "combine_test = torch.utils.data.ConcatDataset([mnist_test, mnist_test_rotation])\n",
        "\n",
        "mnist_train_rotation = torch.utils.data.DataLoader(mnist_train_rotation, shuffle=True, batch_size=32)\n",
        "mnist_test_rotation = torch.utils.data.DataLoader(mnist_test_rotation, shuffle=True, batch_size=32)\n",
        "\n",
        "# Shift\n",
        "dataset_transform_translate = transforms.Compose([\n",
        "    transforms.RandomAffine(degrees=0, translate=(0.1, 0.1)),\n",
        "    transforms.ToTensor(),\n",
        "    transforms.Normalize(mean=(0.5,), std=(0.5,))\n",
        "])\n",
        "\n",
        "mnist_train_translate = mnist_train\n",
        "mnist_test_translate = mnist_test\n",
        "mnist_train_translate.transform = dataset_transform_translate\n",
        "mnist_test_translate.transform = dataset_transform_translate\n",
        "\n",
        "#combine\n",
        "combine_train = torch.utils.data.ConcatDataset([combine_train, mnist_train_translate])\n",
        "combine_test = torch.utils.data.ConcatDataset([combine_test, mnist_test_translate])\n",
        "\n",
        "mnist_train_translate = torch.utils.data.DataLoader(mnist_train_translate, shuffle=True, batch_size=32)\n",
        "mnist_test_translate = torch.utils.data.DataLoader(mnist_test_translate, shuffle=True, batch_size=32)\n",
        "\n",
        "\n",
        "# Shear\n",
        "dataset_transform_shear = transforms.Compose([\n",
        "    transforms.RandomAffine(degrees=0, shear=0.1),\n",
        "    transforms.ToTensor(),\n",
        "    transforms.Normalize(mean=(0.5,), std=(0.5,))\n",
        "])\n",
        "\n",
        "mnist_train_shear = mnist_train\n",
        "mnist_test_shear = mnist_test\n",
        "mnist_train_shear.transform = dataset_transform_shear\n",
        "mnist_test_shear.transform = dataset_transform_shear\n",
        "\n",
        "#combine\n",
        "combine_train = torch.utils.data.ConcatDataset([combine_train, mnist_train_shear])\n",
        "combine_test = torch.utils.data.ConcatDataset([combine_test, mnist_test_shear])\n",
        "\n",
        "\n",
        "mnist_train_shear = torch.utils.data.DataLoader(mnist_train_shear, shuffle=True, batch_size=32)\n",
        "mnist_test_shear = torch.utils.data.DataLoader(mnist_test_shear, shuffle=True, batch_size=32)\n",
        "\n",
        "#scale\n",
        "dataset_transform_scale = transforms.Compose([\n",
        "    transforms.RandomAffine(degrees=0, scale=(0.8, 1.2)),\n",
        "    transforms.ToTensor(),\n",
        "    transforms.Normalize(mean=(0.5,), std=(0.5,))\n",
        "])\n",
        "\n",
        "mnist_train_scale = mnist_train\n",
        "mnist_test_scale = mnist_test\n",
        "mnist_train_scale.transform = dataset_transform_scale\n",
        "mnist_test_scale.transform = dataset_transform_scale\n",
        "\n",
        "#combine\n",
        "combine_train = torch.utils.data.ConcatDataset([combine_train, mnist_train_scale])\n",
        "combine_test = torch.utils.data.ConcatDataset([combine_test, mnist_test_scale])\n",
        "\n",
        "\n",
        "mnist_train_scale = torch.utils.data.DataLoader(mnist_train_scale, shuffle=True, batch_size=32)\n",
        "mnist_test_scale = torch.utils.data.DataLoader(mnist_test_scale, shuffle=True, batch_size=32)\n",
        "\n",
        "\n",
        "\n",
        "train = torch.utils.data.DataLoader(mnist_train, shuffle=True, batch_size=32)\n",
        "test = torch.utils.data.DataLoader(mnist_test, shuffle=True, batch_size=32)\n",
        "\n",
        "combine_train = torch.utils.data.DataLoader(combine_train, shuffle=True, batch_size=32)\n",
        "combine_test = torch.utils.data.DataLoader(combine_test, shuffle=True, batch_size=32)\n"
      ],
      "metadata": {
        "id": "-l-tbin1RqkF"
      },
      "execution_count": null,
      "outputs": []
    },
    {
      "cell_type": "code",
      "source": [
        "for index,  (images, labels) in enumerate (combine_test):\n",
        "  print(index)\n",
        "  break\n"
      ],
      "metadata": {
        "colab": {
          "base_uri": "https://localhost:8080/"
        },
        "id": "T3o-ohLhTr6g",
        "outputId": "1c3e0893-8e96-4264-9f4a-484a3c559755"
      },
      "execution_count": null,
      "outputs": [
        {
          "output_type": "stream",
          "name": "stdout",
          "text": [
            "0\n"
          ]
        }
      ]
    },
    {
      "cell_type": "markdown",
      "source": [
        "# Print images"
      ],
      "metadata": {
        "id": "CbwcBskKVcME"
      }
    },
    {
      "cell_type": "code",
      "source": [
        "for images, classes in mnist_train_scale:\n",
        "  print_image = images\n",
        "  break\n",
        "v = 1\n",
        "for i in range(16):\n",
        "  plt.subplot(4, 4, v)\n",
        "  v = v+1\n",
        "  plt.imshow(print_image[i].reshape(28, 28), cmap='gray')"
      ],
      "metadata": {
        "colab": {
          "base_uri": "https://localhost:8080/",
          "height": 434
        },
        "id": "rwcJ5fLNVfsO",
        "outputId": "ae899184-5788-4ab7-f538-dd2a06ff94f5"
      },
      "execution_count": null,
      "outputs": [
        {
          "output_type": "display_data",
          "data": {
            "text/plain": [
              "<Figure size 640x480 with 16 Axes>"
            ],
            "image/png": "[encoded data removed]"
          },
          "metadata": {}
        }
      ]
    },
    {
      "cell_type": "markdown",
      "source": [
        "# Training Phase"
      ],
      "metadata": {
        "id": "K7g4xsT08y-v"
      }
    },
    {
      "cell_type": "code",
      "source": [
        "def train_model(model, criterion, optimizer, epochs, train):\n",
        "\n",
        "  model.train()\n",
        "  for epoch in range(epochs):\n",
        "\n",
        "    losses = []\n",
        "    acc = []\n",
        "\n",
        "    running_loss = 0.0\n",
        "    running_correct = 0.0\n",
        "    total_samples = 0.0\n",
        "\n",
        "\n",
        "    print(f'{epoch} ------- ')\n",
        "\n",
        "    for index, (images, classes) in enumerate(train):\n",
        "\n",
        "      images = images.to(device)\n",
        "      classes = classes.to(device)\n",
        "\n",
        "      optimizer.zero_grad()\n",
        "      outputs = model(images)\n",
        "      _, preds = torch.max(outputs, 1)\n",
        "      loss = criterion(outputs, classes)\n",
        "      loss.backward()\n",
        "      optimizer.step()\n",
        "\n",
        "      running_loss += loss.item()\n",
        "      running_correct += torch.sum(preds==classes.data)\n",
        "      total_samples += images.size(0)\n",
        "\n",
        "    epoch_loss = running_loss / len(train)\n",
        "    epoch_acc = running_correct / total_samples\n",
        "\n",
        "    print(f'{epoch}/{epochs} -------> Train Loss: {epoch_loss} Train Acc: {epoch_acc}')\n",
        "\n",
        "    losses.append(epoch_loss)\n",
        "    acc.append(epoch_acc)\n",
        "\n",
        "  return model, losses, acc"
      ],
      "metadata": {
        "id": "wXZm0nDG6yd-"
      },
      "execution_count": null,
      "outputs": []
    },
    {
      "cell_type": "markdown",
      "source": [
        "# Testing Phase"
      ],
      "metadata": {
        "id": "G1MOWcwW84ow"
      }
    },
    {
      "cell_type": "code",
      "source": [
        "def test_model(model, test_data, criterion):\n",
        "  model.eval()\n",
        "  running_loss = 0.0\n",
        "  running_correct = 0.0\n",
        "  total_sample = 0.0\n",
        "  with torch.no_grad():\n",
        "    for index, (images, classes) in enumerate(test_data):\n",
        "\n",
        "      images = images.to(device)\n",
        "      classes = classes.to(device)\n",
        "\n",
        "      outputs = model(images)\n",
        "      _, preds = torch.max(outputs, 1)\n",
        "      loss = criterion(outputs, classes)\n",
        "\n",
        "      running_loss += loss.item()\n",
        "      running_correct += torch.sum(preds==classes.data)\n",
        "      total_sample += images.size(0)\n",
        "\n",
        "  test_loss = running_loss/len(test)\n",
        "  test_acc = running_correct / total_sample\n",
        "\n",
        "  print(f'Test Loss: {test_loss} Test Acc: {test_acc}')"
      ],
      "metadata": {
        "id": "K5w0Nanu86jH"
      },
      "execution_count": null,
      "outputs": []
    },
    {
      "cell_type": "markdown",
      "source": [
        "# Concatenate All the augmented Dataset to the original Dataset."
      ],
      "metadata": {
        "id": "qkfkgtQb-Nbq"
      }
    },
    {
      "cell_type": "code",
      "source": [
        "# combine_train = torch.utils.data.ConcatDataset([train, mnist_train_rotation, mnist_train_scale, mnist_train_shear, mnist_train_translate])\n",
        "# combine_test = torch.utils.data.ConcatDataset([test, mnist_test_rotation, mnist_test_scale, mnist_test_shear, mnist_test_translate])"
      ],
      "metadata": {
        "id": "vTYIvu4q-S78"
      },
      "execution_count": null,
      "outputs": []
    },
    {
      "cell_type": "markdown",
      "source": [
        "# Train with original One and Test the model with each of the augmented test set"
      ],
      "metadata": {
        "id": "pmSZGU36-7cA"
      }
    },
    {
      "cell_type": "code",
      "source": [
        "torch.manual_seed(42)\n",
        "model = CNN()\n",
        "model = model.to(device)\n",
        "criterion = nn.CrossEntropyLoss()\n",
        "optimizer = torch.optim.Adam(model.parameters(), lr=0.001325)\n",
        "epochs = 5\n",
        "trained_model, loss_list, acc_list = train_model(model, criterion, optimizer, epochs, train)"
      ],
      "metadata": {
        "colab": {
          "base_uri": "https://localhost:8080/"
        },
        "id": "z5PM80ft_B4G",
        "outputId": "ea480d5c-da32-415f-ff4f-78785eb70be6"
      },
      "execution_count": null,
      "outputs": [
        {
          "output_type": "stream",
          "name": "stdout",
          "text": [
            "0 ------- \n",
            "0/5 -------> Train Loss: 0.12120879747839644 Train Acc: 0.9660166501998901\n",
            "1 ------- \n",
            "1/5 -------> Train Loss: 0.057582666811393575 Train Acc: 0.982450008392334\n",
            "2 ------- \n",
            "2/5 -------> Train Loss: 0.04271921468535729 Train Acc: 0.9869500398635864\n",
            "3 ------- \n",
            "3/5 -------> Train Loss: 0.0338860410136797 Train Acc: 0.9900000095367432\n",
            "4 ------- \n",
            "4/5 -------> Train Loss: 0.03206724597838135 Train Acc: 0.9908166527748108\n"
          ]
        }
      ]
    },
    {
      "cell_type": "code",
      "source": [
        "print('Test with Original Test')\n",
        "test_model(trained_model, test, criterion)\n",
        "print('Test with Translate Test')\n",
        "test_model(trained_model, mnist_test_translate, criterion)\n",
        "print('Test with Rotation Test')\n",
        "test_model(trained_model, mnist_test_rotation, criterion)\n",
        "print('Test with Scale Test')\n",
        "test_model(trained_model, mnist_test_scale, criterion)\n",
        "print('Test with Shear Test')\n",
        "test_model(trained_model, mnist_test_shear, criterion)"
      ],
      "metadata": {
        "colab": {
          "base_uri": "https://localhost:8080/"
        },
        "id": "1i5CnOFBA1Zn",
        "outputId": "1b3eaf0c-b717-4711-a496-6d0ff456caba"
      },
      "execution_count": null,
      "outputs": [
        {
          "output_type": "stream",
          "name": "stdout",
          "text": [
            "Test with Original Test\n",
            "Test Loss: 0.07254137063019635 Test Acc: 0.9848999977111816\n",
            "Test with Translate Test\n",
            "Test Loss: 0.07255987105985638 Test Acc: 0.9848999977111816\n",
            "Test with Rotation Test\n",
            "Test Loss: 0.07223530006447404 Test Acc: 0.9848999977111816\n",
            "Test with Scale Test\n",
            "Test Loss: 0.07295621269867515 Test Acc: 0.9848999977111816\n",
            "Test with Shear Test\n",
            "Test Loss: 0.07223623942207621 Test Acc: 0.9848999977111816\n"
          ]
        }
      ]
    },
    {
      "cell_type": "code",
      "source": [
        "print('Test with Combine Test')\n",
        "print(len(combine_test))\n",
        "test_model(trained_model, combine_test, criterion)\n"
      ],
      "metadata": {
        "colab": {
          "base_uri": "https://localhost:8080/"
        },
        "id": "rJgaRdc1B8sY",
        "outputId": "b2dc9027-8e8a-40ce-d15c-b9427aec6ac9"
      },
      "execution_count": null,
      "outputs": [
        {
          "output_type": "stream",
          "name": "stdout",
          "text": [
            "Test with Combine Test\n",
            "1563\n",
            "Test Loss: 0.5605252146033846 Test Acc: 0.9767599701881409\n"
          ]
        }
      ]
    },
    {
      "cell_type": "markdown",
      "source": [
        "# Train with Augmented One and Test the model with the original test set"
      ],
      "metadata": {
        "id": "4oXxsYe1BxHZ"
      }
    },
    {
      "cell_type": "code",
      "source": [
        "torch.manual_seed(42)\n",
        "model = CNN()\n",
        "model = model.to(device)\n",
        "criterion = nn.CrossEntropyLoss()\n",
        "optimizer = torch.optim.Adam(model.parameters(), lr=0.001325)\n",
        "epochs = 5\n",
        "trained_model, loss_list, acc_list = train_model(model, criterion, optimizer, epochs, combine_train)"
      ],
      "metadata": {
        "colab": {
          "base_uri": "https://localhost:8080/"
        },
        "id": "3yXOJDWhB4dn",
        "outputId": "a3bd10f3-e302-4418-eca7-2cce4cd63e2e"
      },
      "execution_count": null,
      "outputs": [
        {
          "output_type": "stream",
          "name": "stdout",
          "text": [
            "0 ------- \n",
            "0/5 -------> Train Loss: 0.07837508113120363 Train Acc: 0.9770033359527588\n",
            "1 ------- \n",
            "1/5 -------> Train Loss: 0.04561165271217406 Train Acc: 0.9868666529655457\n",
            "2 ------- \n",
            "2/5 -------> Train Loss: 0.03749267754850037 Train Acc: 0.9890833497047424\n",
            "3 ------- \n",
            "3/5 -------> Train Loss: 0.03327783053897901 Train Acc: 0.9908833503723145\n",
            "4 ------- \n",
            "4/5 -------> Train Loss: 0.03149964100773008 Train Acc: 0.9915866851806641\n"
          ]
        }
      ]
    },
    {
      "cell_type": "code",
      "source": [
        "print('Test with Combine Test')\n",
        "test_model(trained_model, combine_test, criterion)\n",
        "print('Test with original test')\n",
        "test_model(trained_model, test, criterion)"
      ],
      "metadata": {
        "colab": {
          "base_uri": "https://localhost:8080/"
        },
        "id": "e8Y2NF9eG9mg",
        "outputId": "d891e967-8579-4717-a521-c215a30fe2df"
      },
      "execution_count": null,
      "outputs": [
        {
          "output_type": "stream",
          "name": "stdout",
          "text": [
            "Test with Combine Test\n",
            "Test Loss: 0.38627382374118513 Test Acc: 0.9857999682426453\n",
            "Test with original test\n",
            "Test Loss: 0.07619220202524045 Test Acc: 0.9864999651908875\n"
          ]
        }
      ]
    },
    {
      "cell_type": "code",
      "source": [
        "print('Test with Translate test')\n",
        "test_model(trained_model, mnist_test_translate, criterion)"
      ],
      "metadata": {
        "colab": {
          "base_uri": "https://localhost:8080/"
        },
        "id": "VM7qN1ofHjH5",
        "outputId": "4088ef59-b32b-4be8-f664-dd1e4bb7daee"
      },
      "execution_count": null,
      "outputs": [
        {
          "output_type": "stream",
          "name": "stdout",
          "text": [
            "Test with Translate test\n",
            "Test Loss: 0.07563020880795066 Test Acc: 0.9853999614715576\n"
          ]
        }
      ]
    }
  ]
}